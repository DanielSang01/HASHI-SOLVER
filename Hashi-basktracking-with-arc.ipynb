{
 "cells": [
  {
   "cell_type": "code",
   "execution_count": 11,
   "metadata": {},
   "outputs": [],
   "source": [
    "#array = [[3,0,4,0,0,0,3],[0,2,0,0,0,3,0],[5,0,0,0,3,0,0],[0,3,0,2,0,0,0],[0,0,0,0,0,0,0],[0,2,0,0,2,0,1],[3,0,0,0,0,2,0]]\n",
    "#array = [[0,1,0,0,0,6,0,0,0,7,0,0,0,0,4,0,4,0,2,0,],[0,0,4,0,2,0,0,2,0,0,0,3,0,8,0,0,0,6,0,2],[0,0,0,0,0,2,0,0,0,0,0,0,0,0,0,0,0,0,0,0],[5,0,12,0,7,0,0,10,0,10,0,0,5,0,6,0,0,8,0,5],[0,0,0,0,0,0,0,0,0,0,0,0,0,2,0,0,0,0,0,0],[0,0,0,5,0,0,0,9,0,10,0,0,8,0,11,0,8,0,4,0],[4,0,5,0,0,0,0,0,0,0,0,0,0,0,0,0,0,0,0,3],[0,0,0,0,2,0,0,4,0,0,1,0,5,0,0,0,2,0,0,0],[0,2,0,7,0,4,0,0,0,7,0,2,0,0,5,0,0,0,3,0],[0,0,0,0,0,0,0,0,0,0,0,0,4,0,0,3,0,1,0,2]]\n",
    "array = [[1,3,4,2],[3,0,1,0],[6,7,5,1],[4,4,2,1]]\n",
    "islands = []\n",
    "width = len(array[0])\n",
    "height = len(array)\n",
    "for y in range(height):\n",
    "    for x in range(width):\n",
    "        if(array[y][x]):\n",
    "            islands.append([y,x,array[y][x]])"
   ]
  },
  {
   "cell_type": "code",
   "execution_count": 15,
   "metadata": {},
   "outputs": [
    {
     "name": "stdout",
     "output_type": "stream",
     "text": [
      "[1, 3, 4, 2]\n",
      "[3, 0, 1, 0]\n",
      "[6, 7, 5, 1]\n",
      "[4, 4, 2, 1]\n"
     ]
    }
   ],
   "source": [
    "for a in array:\n",
    "    print(a)"
   ]
  },
  {
   "cell_type": "code",
   "execution_count": 12,
   "metadata": {},
   "outputs": [],
   "source": [
    "def find_island(y,x):\n",
    "    for z in range(len(islands)):\n",
    "        if(islands[z][0] == y and islands[z][1] == x):\n",
    "            return z"
   ]
  },
  {
   "cell_type": "code",
   "execution_count": 13,
   "metadata": {},
   "outputs": [],
   "source": [
    "bridges = []\n",
    "for y in range(height):\n",
    "    for x in range(width):\n",
    "        if array[y][x]:\n",
    "            for direction in range(4):\n",
    "                x_axis, y_axis = x, y\n",
    "                path = []\n",
    "                dx = int(direction % 2 * 2 * (0.5 - int(direction / 2)))\n",
    "                dy = int((direction + 1) % 2 * 2 * (0.5 - int(direction / 2)))\n",
    "                while 0 <= x_axis + dx < width and 0 <= y_axis + dy < height:\n",
    "                    x_axis += dx\n",
    "                    y_axis += dy\n",
    "                    if array[y_axis][x_axis]:  # Found another non-zero entry\n",
    "                        bridge = [find_island(y,x),find_island(y_axis,x_axis),path,[0,1,2,3]]\n",
    "                        bridges.append(bridge)\n",
    "                        break  # Exit loop after finding a target\n",
    "                    else:\n",
    "                        path.append([x_axis,y_axis])\n",
    "bridges = [bridge for bridge in bridges if bridge[0] <= bridge[1]]\n",
    "for x in range(len(islands)):\n",
    "    island_bridges = []\n",
    "    for y in range(0,len(bridges)):\n",
    "        if(bridges[y][0]==x or bridges[y][1]==x):\n",
    "            island_bridges.append(y)\n",
    "    islands[x].append(island_bridges)"
   ]
  },
  {
   "cell_type": "code",
   "execution_count": 14,
   "metadata": {},
   "outputs": [
    {
     "data": {
      "text/plain": [
       "[[0, 4, [], [0, 1, 2, 3]],\n",
       " [0, 1, [], [0, 1, 2, 3]],\n",
       " [1, 7, [[1, 1]], [0, 1, 2, 3]],\n",
       " [1, 2, [], [0, 1, 2, 3]],\n",
       " [2, 5, [], [0, 1, 2, 3]],\n",
       " [2, 3, [], [0, 1, 2, 3]],\n",
       " [3, 9, [[3, 1]], [0, 1, 2, 3]],\n",
       " [4, 6, [], [0, 1, 2, 3]],\n",
       " [4, 5, [[1, 1]], [0, 1, 2, 3]],\n",
       " [5, 8, [], [0, 1, 2, 3]],\n",
       " [6, 10, [], [0, 1, 2, 3]],\n",
       " [6, 7, [], [0, 1, 2, 3]],\n",
       " [7, 11, [], [0, 1, 2, 3]],\n",
       " [7, 8, [], [0, 1, 2, 3]],\n",
       " [8, 12, [], [0, 1, 2, 3]],\n",
       " [8, 9, [], [0, 1, 2, 3]],\n",
       " [9, 13, [], [0, 1, 2, 3]],\n",
       " [10, 11, [], [0, 1, 2, 3]],\n",
       " [11, 12, [], [0, 1, 2, 3]],\n",
       " [12, 13, [], [0, 1, 2, 3]]]"
      ]
     },
     "execution_count": 14,
     "metadata": {},
     "output_type": "execute_result"
    }
   ],
   "source": [
    "bridges"
   ]
  },
  {
   "cell_type": "code",
   "execution_count": 4,
   "metadata": {},
   "outputs": [],
   "source": [
    "from itertools import product\n",
    "\n",
    "def find_values_for_sum(target, arrays):\n",
    "    # Track which values from each array can contribute to a valid sum\n",
    "    values_part_of_sum = [set() for _ in arrays]\n",
    "\n",
    "    # Check all combinations of one element from each array\n",
    "    for combination in product(*arrays):\n",
    "        if sum(combination) == target:\n",
    "            # If the combination sums to target, record the elements\n",
    "            for i, value in enumerate(combination):\n",
    "                values_part_of_sum[i].add(value)\n",
    "\n",
    "    # Convert sets back to lists for output\n",
    "    return [list(value_set) for value_set in values_part_of_sum]\n"
   ]
  },
  {
   "cell_type": "code",
   "execution_count": 5,
   "metadata": {},
   "outputs": [],
   "source": [
    "def remove_bad_bridges(island):\n",
    "    all_bridges = []\n",
    "    for x in range(len(islands[island][3])):\n",
    "        all_bridges.append(bridges[islands[island][3][x]][3])\n",
    "    new_bridges = find_values_for_sum(islands[island][2],all_bridges)\n",
    "    for x in range(len(new_bridges)):\n",
    "        bridges[islands[island][3][x]][3] = new_bridges[x]"
   ]
  },
  {
   "cell_type": "code",
   "execution_count": 6,
   "metadata": {},
   "outputs": [],
   "source": [
    "def check_possible(bridges):    \n",
    "    for x in range(len(bridges)):\n",
    "        if(not bridges[x][3]):\n",
    "            return -1"
   ]
  },
  {
   "cell_type": "code",
   "execution_count": 7,
   "metadata": {},
   "outputs": [],
   "source": [
    "from copy import deepcopy\n",
    "def arc_consistency(islands, bridges):\n",
    "    change = 1\n",
    "    while(change):\n",
    "        old_bridges = deepcopy(bridges)\n",
    "        for x in range(len(islands)):\n",
    "            remove_bad_bridges(x)\n",
    "        if(check_possible(bridges) == -1):\n",
    "            return -1\n",
    "        used_paths = []\n",
    "        for x in range(len(bridges)):\n",
    "            if(bridges[x][3][0]):\n",
    "                for y in range(len(bridges[x][2])):\n",
    "                    used_paths.append([bridges[x][2][y],x])\n",
    "        for x in range(len(bridges)):\n",
    "            for y in range(len(bridges[x][2])):\n",
    "                for z in range(0,len(used_paths)):\n",
    "                    if(used_paths[z][0] == bridges[x][2][y] and not used_paths[z][1] == x):\n",
    "                        if(bridges[x][3][0]):\n",
    "                            return -1\n",
    "                        else:\n",
    "                            bridges[x][3] = [0]\n",
    "        if(check_possible(bridges) == -1):\n",
    "            return -1\n",
    "        change = 0\n",
    "        for x in range(0,len(bridges)):\n",
    "            if(len(old_bridges[x][3]) != len(bridges[x][3])):\n",
    "                change = 1"
   ]
  },
  {
   "cell_type": "code",
   "execution_count": 8,
   "metadata": {},
   "outputs": [],
   "source": [
    "def is_complete(bridges):\n",
    "    for x in range(len(bridges)):\n",
    "        if(len(bridges[x][3])!=1):\n",
    "            return 0\n",
    "    return 1"
   ]
  },
  {
   "cell_type": "code",
   "execution_count": 9,
   "metadata": {},
   "outputs": [],
   "source": [
    "def backtrack(islands, bridges):\n",
    "    arc_consistency(islands, bridges)\n",
    "    if(is_complete(bridges)):\n",
    "        return bridges\n",
    "    for x in range(len(bridges)):\n",
    "        cur_bridges = deepcopy(bridges[x][3])\n",
    "        if(len(bridges[x][3]) != 1):\n",
    "            for y in range(len(bridges[x][3])):\n",
    "                bridges[x][3] = [bridges[x][3][y]]\n",
    "                print(\"it's backtracking time\")\n",
    "                value = backtrack(islands,bridges)\n",
    "                if(is_complete(bridges)):\n",
    "                    return bridges\n",
    "                if(value == -1):\n",
    "                    return -1\n",
    "                else:\n",
    "                    bridges = deepcopy(cur_bridges)\n"
   ]
  },
  {
   "cell_type": "code",
   "execution_count": 10,
   "metadata": {},
   "outputs": [
    {
     "name": "stdout",
     "output_type": "stream",
     "text": [
      "it's backtracking time\n",
      "it's backtracking time\n",
      "it's backtracking time\n"
     ]
    },
    {
     "data": {
      "text/plain": [
       "[[0, 39, [[1, 1], [1, 2], [1, 3], [1, 4], [1, 5], [1, 6], [1, 7]], [0]],\n",
       " [0, 1, [[2, 0], [3, 0], [4, 0]], [1]],\n",
       " [1, 13, [[5, 1]], [2]],\n",
       " [1, 2, [[6, 0], [7, 0], [8, 0]], [3]],\n",
       " [2, 18, [[9, 1], [9, 2]], [2]],\n",
       " [2, 3, [[10, 0], [11, 0], [12, 0], [13, 0]], [2]],\n",
       " [3, 20, [[14, 1], [14, 2]], [0]],\n",
       " [3, 4, [[15, 0]], [2]],\n",
       " [4, 29, [[16, 1], [16, 2], [16, 3], [16, 4]], [0]],\n",
       " [4, 5, [[17, 0]], [2]],\n",
       " [5, 30, [[18, 1], [18, 2], [18, 3], [18, 4]], [0]],\n",
       " [6, 15, [[2, 2]], [3]],\n",
       " [6, 7, [[3, 1]], [1]],\n",
       " [7, 16, [[4, 2]], [1]],\n",
       " [7, 8, [[5, 1], [6, 1]], [0]],\n",
       " [8, 17, [[7, 2]], [2]],\n",
       " [8, 9, [[8, 1], [9, 1], [10, 1]], [0]],\n",
       " [9, 43, [[11, 2], [11, 3], [11, 4], [11, 5], [11, 6], [11, 7]], [0]],\n",
       " [9, 10, [[12, 1]], [3]],\n",
       " [10, 23, [[13, 2], [13, 3]], [2]],\n",
       " [10, 11, [[14, 1], [15, 1], [16, 1]], [3]],\n",
       " [11, 21, [[17, 2]], [2]],\n",
       " [11, 12, [[18, 1]], [1]],\n",
       " [12, 22, [[19, 2]], [1]],\n",
       " [13, 41, [[5, 3], [5, 4], [5, 5], [5, 6], [5, 7]], [0]],\n",
       " [14, 31, [[0, 4], [0, 5]], [2]],\n",
       " [14, 15, [[1, 3]], [3]],\n",
       " [15, 32, [[2, 4], [2, 5]], [3]],\n",
       " [15, 16, [[3, 3]], [3]],\n",
       " [16, 34, [[4, 4], [4, 5], [4, 6]], [0]],\n",
       " [16, 17, [[5, 3], [6, 3]], [3]],\n",
       " [17, 25, [[7, 4]], [2]],\n",
       " [17, 18, [[8, 3]], [3]],\n",
       " [18, 26, [[9, 4]], [2]],\n",
       " [18, 19, [[10, 3], [11, 3]], [3]],\n",
       " [19, 27, [[12, 4]], [2]],\n",
       " [19, 20, [[13, 3]], [0]],\n",
       " [20, 28, [[14, 4]], [3]],\n",
       " [20, 21, [[15, 3], [16, 3]], [3]],\n",
       " [21, 48, [[17, 4], [17, 5], [17, 6], [17, 7], [17, 8]], [0]],\n",
       " [21, 22, [[18, 3]], [3]],\n",
       " [22, 33, [[19, 4], [19, 5]], [1]],\n",
       " [24, 40, [[3, 6], [3, 7]], [3]],\n",
       " [24, 25, [[4, 5], [5, 5], [6, 5]], [2]],\n",
       " [25, 35, [[7, 6]], [2]],\n",
       " [25, 26, [[8, 5]], [3]],\n",
       " [26, 42, [[9, 6], [9, 7]], [3]],\n",
       " [26, 27, [[10, 5], [11, 5]], [2]],\n",
       " [27, 37, [[12, 6]], [2]],\n",
       " [27, 28, [[13, 5]], [2]],\n",
       " [28, 44, [[14, 6], [14, 7]], [3]],\n",
       " [28, 29, [[15, 5]], [3]],\n",
       " [29, 38, [[16, 6]], [2]],\n",
       " [29, 30, [[17, 5]], [3]],\n",
       " [30, 45, [[18, 6], [18, 7]], [1]],\n",
       " [31, 32, [[1, 6]], [2]],\n",
       " [32,\n",
       "  33,\n",
       "  [[3, 6],\n",
       "   [4, 6],\n",
       "   [5, 6],\n",
       "   [6, 6],\n",
       "   [7, 6],\n",
       "   [8, 6],\n",
       "   [9, 6],\n",
       "   [10, 6],\n",
       "   [11, 6],\n",
       "   [12, 6],\n",
       "   [13, 6],\n",
       "   [14, 6],\n",
       "   [15, 6],\n",
       "   [16, 6],\n",
       "   [17, 6],\n",
       "   [18, 6]],\n",
       "  [0]],\n",
       " [33, 49, [[19, 7], [19, 8]], [2]],\n",
       " [34, 35, [[5, 7], [6, 7]], [2]],\n",
       " [35, 36, [[8, 7], [9, 7]], [0]],\n",
       " [36, 37, [[11, 7]], [1]],\n",
       " [37, 46, [[12, 8]], [2]],\n",
       " [37, 38, [[13, 7], [14, 7], [15, 7]], [0]],\n",
       " [39, 40, [[2, 8]], [2]],\n",
       " [40, 41, [[4, 8]], [2]],\n",
       " [41, 42, [[6, 8], [7, 8], [8, 8]], [2]],\n",
       " [42, 43, [[10, 8]], [2]],\n",
       " [43, 44, [[12, 8], [13, 8]], [0]],\n",
       " [44, 45, [[15, 8], [16, 8], [17, 8]], [2]],\n",
       " [46, 47, [[13, 9], [14, 9]], [2]],\n",
       " [47, 48, [[16, 9]], [1]],\n",
       " [48, 49, [[18, 9]], [0]]]"
      ]
     },
     "execution_count": 10,
     "metadata": {},
     "output_type": "execute_result"
    }
   ],
   "source": [
    "backtrack(islands,bridges)"
   ]
  },
  {
   "cell_type": "code",
   "execution_count": null,
   "metadata": {},
   "outputs": [],
   "source": []
  }
 ],
 "metadata": {
  "kernelspec": {
   "display_name": "Python 3",
   "language": "python",
   "name": "python3"
  },
  "language_info": {
   "codemirror_mode": {
    "name": "ipython",
    "version": 3
   },
   "file_extension": ".py",
   "mimetype": "text/x-python",
   "name": "python",
   "nbconvert_exporter": "python",
   "pygments_lexer": "ipython3",
   "version": "3.11.2"
  }
 },
 "nbformat": 4,
 "nbformat_minor": 2
}
