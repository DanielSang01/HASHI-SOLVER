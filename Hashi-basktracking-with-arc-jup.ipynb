{
 "cells": [
  {
   "cell_type": "code",
   "execution_count": 3,
   "metadata": {},
   "outputs": [],
   "source": [
    "# This algorithm employs arc consitency in a DFS search while using backtracking in the case of incorrect guess.\n",
    "# The data from the grid is stored in two lists, islands and bridges. The islands list keep track of each island's coordinates,\n",
    "# the number of bridges that should be connected to each island, and the bridges that it is connected to. The bridges list keeps\n",
    "# track of the two islands it connects, the coordinates it would take up with space in the hypothetical bridge, and the possible\n",
    "# number of bridges that could be use in that spot. To start off, this is a list containing [0,1,2,3]. As we continue with the\n",
    "# algorithm, this list will be narrowed down to just one possibility which is implemented in the output. We used this data structure\n",
    "# as it allowed us to narrow the choice of bridges in a similar method to the Australian map example where we could remove options as\n",
    "# they proved impossible.\n",
    "\n",
    "# The arc consistency implemented contains two main features. It first checks each island to see whether every value for each connecting\n",
    "# bridge is possible. If is isn't it is gotten rid of. The second feature is tracking the paths to make sure they don't cross over. This\n",
    "# is why we keep the path coordinates in the bridges. If a bridge ever loses its 0 possibility, we assume the coordinates will be used\n",
    "# and can't be used by another bridge. If any bridges use these coordinates now we will set it to 0. For the DFS/Backtracking algorithm,\n",
    "# we try to find the bridge that has the least possibilities and then choose the smallest one. Each time we make a guess like this we apply\n",
    "# arc consistency. If there is every 0 possibilities on a bridge we will backtrack to the last guess and guess something else. If we ever\n",
    "# have one possibility for each bridge we return that allocation and we output those bridges in the map format."
   ]
  },
  {
   "cell_type": "code",
   "execution_count": 4,
   "metadata": {},
   "outputs": [
    {
     "name": "stdout",
     "output_type": "stream",
     "text": [
      "7 7\n"
     ]
    }
   ],
   "source": [
    "#array = [[3,0,4,0,0,0,3],[0,2,0,0,0,3,0],[5,0,0,0,3,0,0],[0,3,0,2,0,0,0],[0,0,0,0,0,0,0],[0,2,0,0,2,0,1],[3,0,0,0,0,2,0]]\n",
    "#array = [[0,1,0,0,0,6,0,0,0,7,0,0,0,0,4,0,4,0,2,0,],[0,0,4,0,2,0,0,2,0,0,0,3,0,8,0,0,0,6,0,2],[0,0,0,0,0,2,0,0,0,0,0,0,0,0,0,0,0,0,0,0],[5,0,12,0,7,0,0,10,0,10,0,0,5,0,6,0,0,8,0,5],[0,0,0,0,0,0,0,0,0,0,0,0,0,2,0,0,0,0,0,0],[0,0,0,5,0,0,0,9,0,10,0,0,8,0,11,0,8,0,4,0],[4,0,5,0,0,0,0,0,0,0,0,0,0,0,0,0,0,0,0,3],[0,0,0,0,2,0,0,4,0,0,1,0,5,0,0,0,2,0,0,0],[0,2,0,7,0,4,0,0,0,7,0,2,0,0,5,0,0,0,3,0],[0,0,0,0,0,0,0,0,0,0,0,0,4,0,0,3,0,1,0,2]]\n",
    "#array = [[2,0,0,2,0,4,0,0,0,0,0,0,0,0,0,0,0,0,0,0,0,0,0,0,4],[0,4,0,0,0,0,0,0,0,0,0,0,0,0,0,0,0,2,0,1,0,0,2,0,0],[0,0,0,0,0,0,0,0,0,0,0,0,0,0,0,0,0,0,0,0,0,0,0,0,0],[0,0,1,0,4,0,0,0,0,0,0,0,0,0,0,0,0,0,0,0,0,0,4,0,0],[4,0,0,0,0,0,0,0,0,0,0,0,0,0,0,0,0,0,0,0,0,0,0,0,0],[0,0,0,0,0,2,0,0,0,0,0,0,0,0,0,0,0,0,0,3,0,0,4,0,0],[0,0,2,0,5,0,0,0,0,0,0,0,1,0,0,0,0,0,0,0,0,0,0,0,0],[0,4,0,0,0,0,0,0,0,0,0,0,0,0,0,0,0,0,0,0,0,0,6,0,3],[0,0,0,0,0,0,0,0,0,0,0,0,0,0,0,0,0,0,0,0,0,0,0,0,0],[0,3,0,0,0,0,4,0,0,0,0,0,0,0,0,0,0,0,0,0,0,0,5,0,3],[0,0,0,0,0,0,0,0,0,0,0,0,0,0,0,0,0,0,0,0,0,0,0,0,0],[0,0,2,0,3,0,0,0,0,0,0,0,0,2,0,0,0,0,0,4,0,1,0,0,0],[0,0,0,0,0,0,0,0,0,0,0,0,0,0,0,0,0,0,0,0,0,0,0,0,0],[0,0,0,0,0,0,0,0,0,0,0,0,0,0,0,0,0,0,0,0,0,0,0,0,0],[0,0,0,0,0,0,0,0,0,0,0,0,0,0,0,0,0,0,0,0,0,0,0,0,2],[0,4,0,0,4,0,0,0,0,0,0,0,0,0,0,0,0,0,0,0,0,0,0,0,0],[0,0,0,0,0,0,0,0,0,0,0,0,0,0,0,0,0,0,0,0,0,1,0,0,1],[0,0,1,0,4,0,0,0,0,0,0,0,0,0,0,0,0,0,0,0,0,0,0,0,0],[0,2,0,0,0,0,0,0,0,0,0,0,0,0,0,0,0,0,0,0,0,0,0,0,0],[0,0,0,0,1,0,0,0,0,0,0,0,0,0,0,0,0,0,0,0,0,0,0,0,2],[6,0,0,0,0,0,6,0,0,0,0,0,0,0,0,0,0,0,0,4,0,0,0,0,0],[0,0,0,0,0,0,0,0,0,0,0,0,0,0,0,0,0,0,0,0,0,0,0,0,0],[5,0,0,0,0,0,4,0,2,0,0,0,0,0,1,0,0,1,0,4,0,3,0,0,0],[0,0,0,0,0,0,0,0,0,0,0,0,0,0,0,0,0,0,0,0,0,0,0,0,0],[2,0,2,0,0,0,0,0,0,0,0,0,0,0,0,0,0,0,0,0,0,0,3,0,2]]\n",
    "array = [[1,0,3,0,4,0,2],[0,0,0,0,0,0,0],[3,0,0,0,1,0,0],[0,0,0,0,0,0,0],[6,0,7,0,5,0,1],[0,0,0,0,0,0,0],[4,0,4,0,2,0,1]]\n",
    "#array = [[0,2,0,5,0,3,0],[2,0,4,0,0,0,2],[0,0,0,0,0,0,0],[0,0,0,1,0,0,4],[1,0,6,0,0,3,0],[0,0,0,0,0,0,0],[1,0,3,0,0,0,3]]\n",
    "islands = []\n",
    "width = len(array[0])\n",
    "height = len(array)\n",
    "for y in range(height):\n",
    "    for x in range(width):\n",
    "        if(array[y][x]):\n",
    "            islands.append([y,x,array[y][x]]) \n",
    "print(width,height)"
   ]
  },
  {
   "cell_type": "code",
   "execution_count": 5,
   "metadata": {},
   "outputs": [],
   "source": [
    "def find_island(y,x):\n",
    "    for z in range(len(islands)):\n",
    "        if(islands[z][0] == y and islands[z][1] == x):\n",
    "            return z"
   ]
  },
  {
   "cell_type": "code",
   "execution_count": 6,
   "metadata": {},
   "outputs": [],
   "source": [
    "bridges = []\n",
    "for y in range(height):\n",
    "    for x in range(width):\n",
    "        if array[y][x]:\n",
    "            for direction in range(4):\n",
    "                x_axis, y_axis = x, y\n",
    "                path = []\n",
    "                dx = int(direction % 2 * 2 * (0.5 - int(direction / 2)))\n",
    "                dy = int((direction + 1) % 2 * 2 * (0.5 - int(direction / 2)))\n",
    "                while 0 <= x_axis + dx < width and 0 <= y_axis + dy < height:\n",
    "                    x_axis += dx\n",
    "                    y_axis += dy\n",
    "                    if array[y_axis][x_axis]:  # Found another non-zero entry\n",
    "                        bridge = [find_island(y,x),find_island(y_axis,x_axis),path,[0,1,2]]\n",
    "                        bridges.append(bridge)\n",
    "                        break  # Exit loop after finding a target\n",
    "                    else:\n",
    "                        path.append([x_axis,y_axis])\n",
    "bridges = [bridge for bridge in bridges if bridge[0] <= bridge[1]]\n",
    "for x in range(len(islands)):\n",
    "    island_bridges = []\n",
    "    for y in range(0,len(bridges)):\n",
    "        if(bridges[y][0]==x or bridges[y][1]==x):\n",
    "            island_bridges.append(y)\n",
    "    islands[x].append(island_bridges)"
   ]
  },
  {
   "cell_type": "code",
   "execution_count": 7,
   "metadata": {},
   "outputs": [],
   "source": [
    "from itertools import product\n",
    "\n",
    "def find_values_for_sum(target, arrays):\n",
    "    # Track which values from each array can contribute to a valid sum\n",
    "    values_part_of_sum = [set() for _ in arrays]\n",
    "\n",
    "    # Check all combinations of one element from each array\n",
    "    for combination in product(*arrays):\n",
    "        if sum(combination) == target:\n",
    "            # If the combination sums to target, record the elements\n",
    "            for i, value in enumerate(combination):\n",
    "                values_part_of_sum[i].add(value)\n",
    "\n",
    "    # Convert sets back to lists for output\n",
    "    return [list(value_set) for value_set in values_part_of_sum]\n"
   ]
  },
  {
   "cell_type": "code",
   "execution_count": 8,
   "metadata": {},
   "outputs": [],
   "source": [
    "def remove_bad_bridges(island):\n",
    "    all_bridges = []\n",
    "    for x in range(len(islands[island][3])):\n",
    "        all_bridges.append(bridges[islands[island][3][x]][3])\n",
    "    new_bridges = find_values_for_sum(islands[island][2],all_bridges)\n",
    "    for x in range(len(new_bridges)):\n",
    "        bridges[islands[island][3][x]][3] = new_bridges[x]"
   ]
  },
  {
   "cell_type": "code",
   "execution_count": 9,
   "metadata": {},
   "outputs": [],
   "source": [
    "def check_possible(bridges):    \n",
    "    for x in range(len(bridges)):\n",
    "        if(not bridges[x][3]):\n",
    "            return -1"
   ]
  },
  {
   "cell_type": "code",
   "execution_count": 10,
   "metadata": {},
   "outputs": [],
   "source": [
    "from copy import deepcopy\n",
    "def arc_consistency(islands, bridges):\n",
    "    change = 1\n",
    "    while(change):\n",
    "        old_bridges = deepcopy(bridges)\n",
    "        for x in range(len(islands)):\n",
    "            remove_bad_bridges(x)\n",
    "        if(check_possible(bridges) == -1):\n",
    "            return -1\n",
    "        used_paths = []\n",
    "        for x in range(len(bridges)):\n",
    "            if(bridges[x][3][0]):\n",
    "                for y in range(len(bridges[x][2])):\n",
    "                    used_paths.append([bridges[x][2][y],x])\n",
    "        for x in range(len(bridges)):\n",
    "            for y in range(len(bridges[x][2])):\n",
    "                for z in range(0,len(used_paths)):\n",
    "                    if(used_paths[z][0] == bridges[x][2][y] and not used_paths[z][1] == x):\n",
    "                        if(bridges[x][3][0]):\n",
    "                            return -1\n",
    "                        else:\n",
    "                            bridges[x][3] = [0]\n",
    "        if(check_possible(bridges) == -1):\n",
    "            return -1\n",
    "        change = 0\n",
    "        for x in range(0,len(bridges)):\n",
    "            if(len(old_bridges[x][3]) != len(bridges[x][3])):\n",
    "                change = 1"
   ]
  },
  {
   "cell_type": "code",
   "execution_count": 11,
   "metadata": {},
   "outputs": [],
   "source": [
    "def is_complete(bridges):\n",
    "    for x in range(len(bridges)):\n",
    "        if(len(bridges[x][3])!=1):\n",
    "            return 0\n",
    "    return 1"
   ]
  },
  {
   "cell_type": "code",
   "execution_count": 12,
   "metadata": {},
   "outputs": [],
   "source": [
    "# def backtrack(islands, bridges):\n",
    "#     arc_consistency(islands, bridges)\n",
    "#     if(is_complete(bridges)):\n",
    "#         return bridges\n",
    "#     for x in range(len(bridges)):\n",
    "#         cur_bridges = deepcopy(bridges)\n",
    "#         if(len(bridges[x][3]) != 1):\n",
    "#             for y in range(len(bridges[x][3])):\n",
    "#                 bridges[x][3] = [bridges[x][3][y]]\n",
    "#                 print(\"it's backtracking time\")\n",
    "#                 value = backtrack(islands,bridges)\n",
    "#                 if(is_complete(bridges)):\n",
    "#                     return bridges\n",
    "#                 if(value == -1):\n",
    "#                     return -1\n",
    "#                 else:\n",
    "#                     bridges = deepcopy(cur_bridges)\n"
   ]
  },
  {
   "cell_type": "code",
   "execution_count": 13,
   "metadata": {},
   "outputs": [],
   "source": [
    "def backtrack(islands, bridges):\n",
    "    arc_consistency(islands, bridges)\n",
    "    if(is_complete(bridges)):\n",
    "        return bridges\n",
    "    cur_bridges = deepcopy(bridges)\n",
    "    min_pos = 5\n",
    "    min_index = -1\n",
    "    for x in range(0,len(bridges)):\n",
    "        length = len(bridges[x][3])\n",
    "        if(length!=1 and min_pos > length):\n",
    "            min_pos = length\n",
    "            min_index = x\n",
    "    print(min_index)\n",
    "    for x in range(len(bridges[min_index][3])):\n",
    "        print(bridges[2])\n",
    "        bridges[min_index][3] = [bridges[min_index][3][x]]\n",
    "        value = backtrack(islands,bridges)\n",
    "        if(is_complete(bridges)):\n",
    "            return bridges\n",
    "        elif(value == -1):\n",
    "            return -1\n",
    "        else:\n",
    "            bridges = deepcopy(cur_bridges)"
   ]
  },
  {
   "cell_type": "code",
   "execution_count": 14,
   "metadata": {},
   "outputs": [
    {
     "name": "stdout",
     "output_type": "stream",
     "text": [
      "2\n",
      "[1, 7, [[2, 1], [2, 2], [2, 3]], [1, 2]]\n",
      "4\n",
      "[1, 7, [[2, 1], [2, 2], [2, 3]], [1]]\n",
      "14\n",
      "[1, 7, [[2, 1], [2, 2], [2, 3]], [1]]\n"
     ]
    },
    {
     "data": {
      "text/plain": [
       "[[0, 4, [[0, 1]], [1]],\n",
       " [0, 1, [[1, 0]], [0]],\n",
       " [1, 7, [[2, 1], [2, 2], [2, 3]], [1]],\n",
       " [1, 2, [[3, 0]], [2]],\n",
       " [2, 5, [[4, 1]], [0]],\n",
       " [2, 3, [[5, 0]], [2]],\n",
       " [3, 9, [[6, 1], [6, 2], [6, 3]], [0]],\n",
       " [4, 6, [[0, 3]], [2]],\n",
       " [4, 5, [[1, 2], [2, 2], [3, 2]], [0]],\n",
       " [5, 8, [[4, 3]], [1]],\n",
       " [6, 10, [[0, 5]], [2]],\n",
       " [6, 7, [[1, 4]], [2]],\n",
       " [7, 11, [[2, 5]], [2]],\n",
       " [7, 8, [[3, 4]], [2]],\n",
       " [8, 12, [[4, 5]], [1]],\n",
       " [8, 9, [[5, 4]], [1]],\n",
       " [9, 13, [[6, 5]], [0]],\n",
       " [10, 11, [[1, 6]], [2]],\n",
       " [11, 12, [[3, 6]], [0]],\n",
       " [12, 13, [[5, 6]], [1]]]"
      ]
     },
     "execution_count": 14,
     "metadata": {},
     "output_type": "execute_result"
    }
   ],
   "source": [
    "backtrack(islands,bridges)"
   ]
  },
  {
   "cell_type": "code",
   "execution_count": 15,
   "metadata": {},
   "outputs": [
    {
     "data": {
      "text/plain": [
       "[[0, 0, 1, [0, 1]],\n",
       " [0, 2, 3, [1, 2, 3]],\n",
       " [0, 4, 4, [3, 4, 5]],\n",
       " [0, 6, 2, [5, 6]],\n",
       " [2, 0, 3, [0, 7, 8]],\n",
       " [2, 4, 1, [4, 8, 9]],\n",
       " [4, 0, 6, [7, 10, 11]],\n",
       " [4, 2, 7, [2, 11, 12, 13]],\n",
       " [4, 4, 5, [9, 13, 14, 15]],\n",
       " [4, 6, 1, [6, 15, 16]],\n",
       " [6, 0, 4, [10, 17]],\n",
       " [6, 2, 4, [12, 17, 18]],\n",
       " [6, 4, 2, [14, 18, 19]],\n",
       " [6, 6, 1, [16, 19]]]"
      ]
     },
     "execution_count": 15,
     "metadata": {},
     "output_type": "execute_result"
    }
   ],
   "source": [
    "islands"
   ]
  },
  {
   "cell_type": "code",
   "execution_count": 41,
   "metadata": {},
   "outputs": [
    {
     "name": "stdout",
     "output_type": "stream",
     "text": [
      "[0, 4, [[0, 1]], [1]]\n",
      "ger\n",
      "her\n",
      "[0, 1, [[1, 0]], [0]]\n",
      "[1, 7, [[2, 1], [2, 2], [2, 3]], [1]]\n",
      "ger\n",
      "her\n",
      "her\n",
      "her\n",
      "[1, 2, [[3, 0]], [2]]\n",
      "ger\n",
      "her\n",
      "[2, 5, [[4, 1]], [0]]\n",
      "[2, 3, [[5, 0]], [2]]\n",
      "ger\n",
      "her\n",
      "[3, 9, [[6, 1], [6, 2], [6, 3]], [0]]\n",
      "[4, 6, [[0, 3]], [2]]\n",
      "ger\n",
      "her\n",
      "[4, 5, [[1, 2], [2, 2], [3, 2]], [0]]\n",
      "[5, 8, [[4, 3]], [1]]\n",
      "ger\n",
      "her\n",
      "[6, 10, [[0, 5]], [2]]\n",
      "ger\n",
      "her\n",
      "[6, 7, [[1, 4]], [2]]\n",
      "ger\n",
      "her\n",
      "[7, 11, [[2, 5]], [2]]\n",
      "ger\n",
      "her\n",
      "[7, 8, [[3, 4]], [2]]\n",
      "ger\n",
      "her\n",
      "[8, 12, [[4, 5]], [1]]\n",
      "ger\n",
      "her\n",
      "[8, 9, [[5, 4]], [1]]\n",
      "ger\n",
      "her\n",
      "[9, 13, [[6, 5]], [0]]\n",
      "[10, 11, [[1, 6]], [2]]\n",
      "ger\n",
      "her\n",
      "[11, 12, [[3, 6]], [0]]\n",
      "[12, 13, [[5, 6]], [1]]\n",
      "ger\n",
      "her\n"
     ]
    }
   ],
   "source": [
    "output = deepcopy(array) \n",
    "for x in range(len(array)):\n",
    "    for y in range(len(array)):\n",
    "        if(array[x][y] == 0):\n",
    "            output[x][y] = \".\"\n",
    "        elif(array[x][y]<10):\n",
    "            output[x][y] = str(array[x][y])\n",
    "        elif(array[x][y] == 10):\n",
    "            output[x][y] = \"a\"\n",
    "        elif(array[x][y] == 11):\n",
    "            output[x][y] = \"b\"\n",
    "        elif(array[x][y] == 12):\n",
    "            output[x][y] = \"c\"\n",
    "bridge_type = []\n",
    "counter = -1\n",
    "for bridge in bridges:\n",
    "    print(bridge)\n",
    "    counter += 1\n",
    "    if(bridge[3] == 0):\n",
    "        print\n",
    "        nothing = 1\n",
    "    elif(islands[bridge[0]][0]==islands[bridge[1]][0] and bridge[3][0] == 1):\n",
    "        make_path(\"-\", counter)\n",
    "    elif(islands[bridge[0]][0]==islands[bridge[1]][0] and bridge[3][0] == 2):\n",
    "        make_path(\"=\", counter)\n",
    "    elif(islands[bridge[0]][0]==islands[bridge[1]][0] and bridge[3][0] == 3):\n",
    "        make_path(\"E\", counter)\n",
    "    elif(islands[bridge[0]][1]==islands[bridge[1]][1] and bridge[3][0] == 1):\n",
    "        make_path(\"|\", counter)\n",
    "    elif(islands[bridge[0]][1]==islands[bridge[1]][1] and bridge[3][0] == 2):\n",
    "        make_path(\"\\\"\", counter)\n",
    "    elif(islands[bridge[0]][1]==islands[bridge[1]][1] and bridge[3][0] == 3):\n",
    "        make_path(\"#\", counter)"
   ]
  },
  {
   "cell_type": "code",
   "execution_count": 40,
   "metadata": {},
   "outputs": [],
   "source": [
    "def make_path(type, index):\n",
    "    print(\"ger\")\n",
    "    for x in range(len(bridges[index][2])):\n",
    "        print(\"her\")\n",
    "        output[bridges[index][2][x][1]][bridges[index][2][x][0]] = type"
   ]
  },
  {
   "cell_type": "code",
   "execution_count": 42,
   "metadata": {},
   "outputs": [
    {
     "data": {
      "text/plain": [
       "[['1', '.', '3', '=', '4', '=', '2'],\n",
       " ['|', '.', '|', '.', '.', '.', '.'],\n",
       " ['3', '.', '|', '.', '1', '.', '.'],\n",
       " ['\"', '.', '|', '.', '|', '.', '.'],\n",
       " ['6', '=', '7', '=', '5', '-', '1'],\n",
       " ['\"', '.', '\"', '.', '|', '.', '.'],\n",
       " ['4', '=', '4', '.', '2', '-', '1']]"
      ]
     },
     "execution_count": 42,
     "metadata": {},
     "output_type": "execute_result"
    }
   ],
   "source": [
    "output"
   ]
  },
  {
   "cell_type": "code",
   "execution_count": 43,
   "metadata": {},
   "outputs": [
    {
     "name": "stdout",
     "output_type": "stream",
     "text": [
      "1.3=4=2\n",
      "|.|....\n",
      "3.|.1..\n",
      "\".|.|..\n",
      "6=7=5-1\n",
      "\".\".|..\n",
      "4=4.2-1\n"
     ]
    }
   ],
   "source": [
    "for row in output:\n",
    "    print(''.join(row))"
   ]
  },
  {
   "cell_type": "code",
   "execution_count": null,
   "metadata": {},
   "outputs": [],
   "source": []
  }
 ],
 "metadata": {
  "kernelspec": {
   "display_name": "Python 3",
   "language": "python",
   "name": "python3"
  },
  "language_info": {
   "codemirror_mode": {
    "name": "ipython",
    "version": 3
   },
   "file_extension": ".py",
   "mimetype": "text/x-python",
   "name": "python",
   "nbconvert_exporter": "python",
   "pygments_lexer": "ipython3",
   "version": "3.11.8"
  }
 },
 "nbformat": 4,
 "nbformat_minor": 2
}
